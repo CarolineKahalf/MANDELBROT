{
 "cells": [
  {
   "cell_type": "markdown",
   "metadata": {},
   "source": [
    "# NGANGA CAROLINE KANUTHU\n",
    "# BSC IN COMPUTER SCIENCE\n",
    "# SCT211-0020/2017\n",
    "# SCIENTIFIC COMPUTING\n",
    "# ASSIGNMENT 1"
   ]
  },
  {
   "cell_type": "markdown",
   "metadata": {},
   "source": [
    " \n",
    " ### BACKTHEORY ON MANDERBOLT SET\n",
    " The mandelbrot set was developed by a mathematician, Benoit Mandelbrot.  He discovered a pattern that was repetitive while squaring numbers and adding a constant to the squared number. The numbers formed a kidney-shaped pattern where numbers outside the pattern were unstable but inside the kidney-shaped figure ended up forming a cyclic shape eg. a star made of orbits and the numbers were stable. \n",
    "\n",
    "Mandelbrot set involved the iteration of the function: z(x)=x**2 + c where c is a constant consisting of either a real or complex number. When the iterated function was performed, it formed the orbits of the pattern. While we iterate the function it grew bigger and bigger thus, it forms a stable pattern at first but later as the values grow bigger it starts to behave erratically i.e the orbit tends to infinity. It was also discovered the orbit of 0 under x**2 + c  somehow tells the tremendous fate off all other orbits under the function.\n",
    "\n"
   ]
  },
  {
   "cell_type": "code",
   "execution_count": 13,
   "metadata": {},
   "outputs": [],
   "source": [
    "#Python code to plot the mendelbrot using numpy array,broadcasting,vectorisation and universal functions\n",
    "import numpy as np\n",
    "import matplotlib.pyplot as plt"
   ]
  },
  {
   "cell_type": "code",
   "execution_count": 8,
   "metadata": {
    "scrolled": false
   },
   "outputs": [],
   "source": [
    "#part a)\n",
    "Xmin=-1.5;Xmax=0.5;Ymin=-1;Ymax=1.0 #this are the domains\n",
    "npts=501; #this is the n.o of points on each axis(n.o of iterations we have)\n",
    "Xs=np.linspace(Xmin,Xmax,npts) #the real part\n",
    "Ys=np.linspace(Ymin,Ymax,npts,dtype=np.complex128)*1j #imaginary part\n",
    "#make a 2_D array by broadcasting two 1_d arrays\n",
    "Cs=Xs.reshape((1,npts)) + Ys.reshape((npts,1))\n"
   ]
  },
  {
   "cell_type": "code",
   "execution_count": 9,
   "metadata": {},
   "outputs": [],
   "source": [
    "#part b)\n",
    "Zs=np.zeros((npts,npts),dtype=np.complex128)"
   ]
  },
  {
   "cell_type": "code",
   "execution_count": 10,
   "metadata": {},
   "outputs": [
    {
     "name": "stderr",
     "output_type": "stream",
     "text": [
      "C:\\Users\\Kahalf\\Anaconda3\\ANACONDA NAVIGATOR\\lib\\site-packages\\ipykernel_launcher.py:4: RuntimeWarning: overflow encountered in square\n",
      "  after removing the cwd from sys.path.\n",
      "C:\\Users\\Kahalf\\Anaconda3\\ANACONDA NAVIGATOR\\lib\\site-packages\\ipykernel_launcher.py:4: RuntimeWarning: invalid value encountered in square\n",
      "  after removing the cwd from sys.path.\n"
     ]
    }
   ],
   "source": [
    "#part c)\n",
    "nits=300\n",
    "for i in range(nits):\n",
    " Zs=Zs**2+Cs"
   ]
  },
  {
   "cell_type": "code",
   "execution_count": 11,
   "metadata": {},
   "outputs": [
    {
     "name": "stderr",
     "output_type": "stream",
     "text": [
      "C:\\Users\\Kahalf\\Anaconda3\\ANACONDA NAVIGATOR\\lib\\site-packages\\ipykernel_launcher.py:3: RuntimeWarning: invalid value encountered in less\n",
      "  This is separate from the ipykernel package so we can avoid doing imports until\n"
     ]
    }
   ],
   "source": [
    "#part d)\n",
    "maxval=300\n",
    "mendelbrot=np.abs(Zs)<maxval"
   ]
  },
  {
   "cell_type": "code",
   "execution_count": 12,
   "metadata": {
    "scrolled": true
   },
   "outputs": [
    {
     "data": {
      "image/png": "[encoded data removed]",
      "text/plain": [
       "<Figure size 432x288 with 1 Axes>"
      ]
     },
     "metadata": {
      "needs_background": "light"
     },
     "output_type": "display_data"
    }
   ],
   "source": [
    "#part e)\n",
    "fig=plt.imshow(mendelbrot,cmap=\"copper\",origin='lower')\n",
    "plt.axis('off')\n",
    "plt.savefig('mendelbrot.png')"
   ]
  },
  {
   "cell_type": "markdown",
   "metadata": {},
   "source": [
    "### REFERENCES:\n",
    "1.plus.maths.org\n",
    "\n",
    "2.mathworld.wolfram.com"
   ]
  }
 ],
 "metadata": {
  "kernelspec": {
   "display_name": "Python 3",
   "language": "python",
   "name": "python3"
  },
  "language_info": {
   "codemirror_mode": {
    "name": "ipython",
    "version": 3
   },
   "file_extension": ".py",
   "mimetype": "text/x-python",
   "name": "python",
   "nbconvert_exporter": "python",
   "pygments_lexer": "ipython3",
   "version": "3.7.3"
  }
 },
 "nbformat": 4,
 "nbformat_minor": 2
}
